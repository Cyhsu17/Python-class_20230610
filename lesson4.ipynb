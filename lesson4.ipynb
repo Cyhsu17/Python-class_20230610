mport math
n = float(input("請輸入斜邊:"))
m = float(input("請輸入對邊:"))
radion = math.asin(m / n)
degree = round(math.degrees(radion))
print(f"直角三角形的角度為:{degree}度")
