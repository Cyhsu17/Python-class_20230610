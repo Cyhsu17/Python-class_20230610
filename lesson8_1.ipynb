{
 "cells": [
  {
   "cell_type": "code",
   "execution_count": 2,
   "metadata": {},
   "outputs": [
    {
     "data": {
      "text/plain": [
       "[[92, 88, 58, 74, 90],\n",
       " [67, 66, 76, 82, 60],\n",
       " [96, 55, 68, 64, 94],\n",
       " [98, 73, 71, 98, 95],\n",
       " [67, 66, 72, 62, 96],\n",
       " [51, 87, 62, 68, 98],\n",
       " [68, 92, 52, 92, 62],\n",
       " [73, 98, 98, 54, 93],\n",
       " [87, 75, 81, 90, 96],\n",
       " [97, 63, 75, 93, 56],\n",
       " [57, 90, 78, 86, 68],\n",
       " [79, 95, 84, 54, 71],\n",
       " [73, 93, 54, 56, 81],\n",
       " [61, 100, 73, 93, 68],\n",
       " [96, 64, 56, 58, 56],\n",
       " [90, 64, 88, 57, 73],\n",
       " [79, 86, 58, 69, 59],\n",
       " [83, 55, 52, 94, 74],\n",
       " [83, 79, 97, 77, 54],\n",
       " [62, 82, 68, 52, 75],\n",
       " [67, 50, 55, 69, 84],\n",
       " [57, 76, 54, 77, 59],\n",
       " [93, 86, 93, 82, 52],\n",
       " [70, 88, 53, 90, 71],\n",
       " [58, 58, 99, 93, 89],\n",
       " [100, 81, 80, 83, 100],\n",
       " [72, 55, 75, 62, 80],\n",
       " [74, 75, 57, 72, 79],\n",
       " [70, 73, 96, 72, 71],\n",
       " [77, 77, 82, 73, 86],\n",
       " [76, 55, 95, 56, 87],\n",
       " [62, 60, 52, 82, 54],\n",
       " [82, 55, 82, 59, 63],\n",
       " [66, 58, 58, 87, 50],\n",
       " [88, 69, 63, 60, 72],\n",
       " [86, 57, 60, 59, 100],\n",
       " [53, 68, 51, 83, 79],\n",
       " [86, 91, 82, 75, 96],\n",
       " [79, 71, 67, 83, 58],\n",
       " [88, 51, 77, 98, 78],\n",
       " [56, 77, 55, 66, 89],\n",
       " [62, 75, 78, 62, 66],\n",
       " [62, 66, 83, 61, 55],\n",
       " [58, 52, 87, 87, 67],\n",
       " [51, 74, 98, 71, 75],\n",
       " [88, 69, 78, 59, 52],\n",
       " [81, 64, 52, 82, 85],\n",
       " [75, 67, 55, 51, 76],\n",
       " [72, 91, 52, 71, 57],\n",
       " [77, 91, 60, 62, 52]]"
      ]
     },
     "execution_count": 2,
     "metadata": {},
     "output_type": "execute_result"
    }
   ],
   "source": [
    "import random\n",
    "students  = []\n",
    "for _  in range(50):\n",
    "    stu = list()\n",
    "    for _ in range(5):\n",
    "        stu.append(random.randint(50,  100))\n",
    "    students.append(stu)\n",
    "students"
   ]
  },
  {
   "cell_type": "code",
   "execution_count": 11,
   "metadata": {},
   "outputs": [],
   "source": [
    "import csv\n",
    "csv_write_file = open('students.csv',newline='',mode='w',encoding='utf-8')\n",
    "csv_writer = csv.writer(csv_write_file)\n",
    "csv_writer.writerow(['國文','英文','數學','地理','歷史'])\n",
    "csv_writer.writerows(students)\n",
    "csv_write_file.close()"
   ]
  }
 ],
 "metadata": {
  "kernelspec": {
   "display_name": "Python 3",
   "language": "python",
   "name": "python3"
  },
  "language_info": {
   "codemirror_mode": {
    "name": "ipython",
    "version": 3
   },
   "file_extension": ".py",
   "mimetype": "text/x-python",
   "name": "python",
   "nbconvert_exporter": "python",
   "pygments_lexer": "ipython3",
   "version": "3.10.12"
  },
  "orig_nbformat": 4
 },
 "nbformat": 4,
 "nbformat_minor": 2
}
